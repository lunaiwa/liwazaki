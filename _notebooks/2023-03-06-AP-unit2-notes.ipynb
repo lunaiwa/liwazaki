{
 "cells": [
  {
   "attachments": {},
   "cell_type": "markdown",
   "metadata": {},
   "source": [
    "#  Unit 2 Notes\n",
    "> Notes that go over the unit 2 of APCSP\n",
    "- toc: true\n",
    "- categories: []\n",
    "- comments: true"
   ]
  }
 ],
 "metadata": {
  "language_info": {
   "name": "python"
  },
  "orig_nbformat": 4
 },
 "nbformat": 4,
 "nbformat_minor": 2
}
